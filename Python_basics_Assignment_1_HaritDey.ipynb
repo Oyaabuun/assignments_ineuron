{
 "cells": [
  {
   "cell_type": "code",
   "execution_count": null,
   "id": "167dc1db",
   "metadata": {},
   "outputs": [],
   "source": [
    "# 1st \n",
    "\"\"\"\n",
    "*  is a mathematical operators\n",
    "\n",
    "'hello'  is a string \n",
    "\n",
    "-87.8  is a float type \n",
    "\n",
    "-   is  a mathematical operator\n",
    "/   is  a mathematical operator\n",
    "+   is a mathematical operator\n",
    "\n",
    "\"\"\""
   ]
  },
  {
   "cell_type": "code",
   "execution_count": null,
   "id": "e51e69cd",
   "metadata": {},
   "outputs": [],
   "source": [
    "#2nd\n",
    "\"\"\"string is a sequence/collection of character type data for example name of person, or words.\n",
    "\n",
    "varaible is a way of storing any unknown value or any value that can be used later in the program.\n",
    "\n",
    "\"\"\" "
   ]
  },
  {
   "cell_type": "code",
   "execution_count": null,
   "id": "64d7afd2",
   "metadata": {},
   "outputs": [],
   "source": [
    "#3rd\n",
    "\"\"\"\n",
    "int - integer type data for ex numbers - 23,45,67,89\n",
    "float - floating point values ex- 78.59,456.489\n",
    "boolean - either true or false that is 0 or 1\"\"\""
   ]
  },
  {
   "cell_type": "code",
   "execution_count": null,
   "id": "022f5371",
   "metadata": {},
   "outputs": [],
   "source": [
    "#4th\n",
    "\"\"\"\n",
    "an expression is made up variable,operators ,operands. \n",
    "expression evaluates the outcome of the line to a single value \"\"\""
   ]
  },
  {
   "cell_type": "code",
   "execution_count": null,
   "id": "b62c904e",
   "metadata": {},
   "outputs": [],
   "source": [
    "#5th\n",
    "\"\"\"expression evaluates the entered combination of operators,literals and is interpreted by the complier to give a  result\n",
    "statement is just a way for assigning values or writing comments or lines of code\"\"\""
   ]
  },
  {
   "cell_type": "code",
   "execution_count": 3,
   "id": "8d0d9dd3",
   "metadata": {},
   "outputs": [
    {
     "name": "stdout",
     "output_type": "stream",
     "text": [
      "22\n"
     ]
    }
   ],
   "source": [
    "#6th\n",
    "bacon=22\n",
    "bacon+1           \n",
    "print(bacon)   # so the value of bacon remained the same that is 22"
   ]
  },
  {
   "cell_type": "code",
   "execution_count": 4,
   "id": "bfa2173e",
   "metadata": {},
   "outputs": [
    {
     "data": {
      "text/plain": [
       "'spamspamspam'"
      ]
     },
     "execution_count": 4,
     "metadata": {},
     "output_type": "execute_result"
    }
   ],
   "source": [
    "#7\n",
    "'spam' + 'spamspam'     # value for this is 'spamspamspam'"
   ]
  },
  {
   "cell_type": "code",
   "execution_count": 5,
   "id": "cf69c409",
   "metadata": {},
   "outputs": [
    {
     "data": {
      "text/plain": [
       "'spamspamspam'"
      ]
     },
     "execution_count": 5,
     "metadata": {},
     "output_type": "execute_result"
    }
   ],
   "source": [
    "'spam' * 3             #value for this is 'spam' * 3"
   ]
  },
  {
   "cell_type": "code",
   "execution_count": null,
   "id": "eede9987",
   "metadata": {},
   "outputs": [],
   "source": [
    "#8\n",
    "\"\"\"100 is a integer type. its value is fixed. \n",
    "we cannot assign any other value to 100, which defeats the sole purpose of a variable which means that varaible value \n",
    "can be anything that we want to assign\n",
    "So eggs is a valid varaible name\n",
    "\"\"\""
   ]
  },
  {
   "cell_type": "code",
   "execution_count": null,
   "id": "c80c7ffd",
   "metadata": {},
   "outputs": [],
   "source": [
    "#9\n",
    "int(),float(),str()"
   ]
  },
  {
   "cell_type": "code",
   "execution_count": 6,
   "id": "84ce9296",
   "metadata": {},
   "outputs": [
    {
     "ename": "TypeError",
     "evalue": "can only concatenate str (not \"int\") to str",
     "output_type": "error",
     "traceback": [
      "\u001b[1;31m---------------------------------------------------------------------------\u001b[0m",
      "\u001b[1;31mTypeError\u001b[0m                                 Traceback (most recent call last)",
      "Input \u001b[1;32mIn [6]\u001b[0m, in \u001b[0;36m<cell line: 2>\u001b[1;34m()\u001b[0m\n\u001b[0;32m      1\u001b[0m \u001b[38;5;66;03m#10\u001b[39;00m\n\u001b[1;32m----> 2\u001b[0m \u001b[38;5;124;43m'\u001b[39;49m\u001b[38;5;124;43mI have eaten \u001b[39;49m\u001b[38;5;124;43m'\u001b[39;49m\u001b[43m \u001b[49m\u001b[38;5;241;43m+\u001b[39;49m\u001b[43m \u001b[49m\u001b[38;5;241;43m99\u001b[39;49m \u001b[38;5;241m+\u001b[39m \u001b[38;5;124m'\u001b[39m\u001b[38;5;124m burritos.\u001b[39m\u001b[38;5;124m'\u001b[39m\n",
      "\u001b[1;31mTypeError\u001b[0m: can only concatenate str (not \"int\") to str"
     ]
    }
   ],
   "source": [
    "#10\n",
    "'I have eaten ' + 99 + ' burritos.' \n",
    "#string can only we added to a string type  , here this line is trying to concatenate string with an integer type value"
   ]
  },
  {
   "cell_type": "code",
   "execution_count": null,
   "id": "c0805e27",
   "metadata": {},
   "outputs": [],
   "source": []
  }
 ],
 "metadata": {
  "kernelspec": {
   "display_name": "Python 3 (ipykernel)",
   "language": "python",
   "name": "python3"
  },
  "language_info": {
   "codemirror_mode": {
    "name": "ipython",
    "version": 3
   },
   "file_extension": ".py",
   "mimetype": "text/x-python",
   "name": "python",
   "nbconvert_exporter": "python",
   "pygments_lexer": "ipython3",
   "version": "3.9.12"
  }
 },
 "nbformat": 4,
 "nbformat_minor": 5
}
