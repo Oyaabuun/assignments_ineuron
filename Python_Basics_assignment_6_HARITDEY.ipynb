{
 "cells": [
  {
   "cell_type": "code",
   "execution_count": 8,
   "id": "e4840092",
   "metadata": {},
   "outputs": [
    {
     "name": "stdout",
     "output_type": "stream",
     "text": [
      "data is new \n",
      " gold\n",
      "data is new \t gold\n",
      "data  is new\r",
      " gold\n"
     ]
    }
   ],
   "source": [
    " #1  #\\ is used to type escape characters\n",
    "    #\"\\t\" is a tab, \"\\n\" is a newline, and \"\\r\" is a carriage return\n",
    "print(\"data is new \\n gold\")\n",
    "print(\"data is new \\t gold\")\n",
    "print(\"data  is new\\r gold\")"
   ]
  },
  {
   "cell_type": "code",
   "execution_count": null,
   "id": "f584ef84",
   "metadata": {},
   "outputs": [],
   "source": [
    "#2\n",
    "#\"\\t\" is a tab, \"\\n\" is a newline"
   ]
  },
  {
   "cell_type": "code",
   "execution_count": 9,
   "id": "b488499d",
   "metadata": {},
   "outputs": [
    {
     "name": "stdout",
     "output_type": "stream",
     "text": [
      " back slash \\ in a line\n"
     ]
    }
   ],
   "source": [
    "#3\n",
    "print(' back slash \\\\ in a line')"
   ]
  },
  {
   "cell_type": "code",
   "execution_count": null,
   "id": "8878bdf4",
   "metadata": {},
   "outputs": [],
   "source": [
    "#4\n",
    "#that is because its inside the double quotes"
   ]
  },
  {
   "cell_type": "code",
   "execution_count": 17,
   "id": "9c1c9bbb",
   "metadata": {},
   "outputs": [
    {
     "name": "stdout",
     "output_type": "stream",
     "text": [
      "data is new\n",
      "alif\n"
     ]
    }
   ],
   "source": [
    "#5\n",
    "print(\"data is new\",end=\"\\n\")\n",
    "print(\"alif\")"
   ]
  },
  {
   "cell_type": "code",
   "execution_count": 19,
   "id": "74705091",
   "metadata": {},
   "outputs": [
    {
     "data": {
      "text/plain": [
       "'e'"
      ]
     },
     "execution_count": 19,
     "metadata": {},
     "output_type": "execute_result"
    }
   ],
   "source": [
    "#6\n",
    "'Hello, world!'[1]\n",
    "\n"
   ]
  },
  {
   "cell_type": "code",
   "execution_count": 20,
   "id": "b732fd0b",
   "metadata": {},
   "outputs": [
    {
     "data": {
      "text/plain": [
       "'Hello'"
      ]
     },
     "execution_count": 20,
     "metadata": {},
     "output_type": "execute_result"
    }
   ],
   "source": [
    "'Hello, world!'[0:5]"
   ]
  },
  {
   "cell_type": "code",
   "execution_count": 21,
   "id": "c067be49",
   "metadata": {},
   "outputs": [
    {
     "data": {
      "text/plain": [
       "'Hello'"
      ]
     },
     "execution_count": 21,
     "metadata": {},
     "output_type": "execute_result"
    }
   ],
   "source": [
    "'Hello, world!'[:5]\n"
   ]
  },
  {
   "cell_type": "code",
   "execution_count": 22,
   "id": "9f5395ac",
   "metadata": {},
   "outputs": [
    {
     "data": {
      "text/plain": [
       "'lo, world!'"
      ]
     },
     "execution_count": 22,
     "metadata": {},
     "output_type": "execute_result"
    }
   ],
   "source": [
    "'Hello, world!'[3:]"
   ]
  },
  {
   "cell_type": "code",
   "execution_count": 26,
   "id": "88bc1153",
   "metadata": {},
   "outputs": [
    {
     "data": {
      "text/plain": [
       "'HELLO'"
      ]
     },
     "execution_count": 26,
     "metadata": {},
     "output_type": "execute_result"
    }
   ],
   "source": [
    "#7\n",
    "'Hello'.upper()\n",
    "\n"
   ]
  },
  {
   "cell_type": "code",
   "execution_count": 27,
   "id": "29b15e19",
   "metadata": {},
   "outputs": [
    {
     "data": {
      "text/plain": [
       "True"
      ]
     },
     "execution_count": 27,
     "metadata": {},
     "output_type": "execute_result"
    }
   ],
   "source": [
    "'Hello'.upper().isupper()\n"
   ]
  },
  {
   "cell_type": "code",
   "execution_count": 28,
   "id": "32b6e00f",
   "metadata": {},
   "outputs": [
    {
     "data": {
      "text/plain": [
       "'hello'"
      ]
     },
     "execution_count": 28,
     "metadata": {},
     "output_type": "execute_result"
    }
   ],
   "source": [
    "'Hello'.upper().lower()"
   ]
  },
  {
   "cell_type": "code",
   "execution_count": 30,
   "id": "f2f64605",
   "metadata": {},
   "outputs": [
    {
     "data": {
      "text/plain": [
       "['Remember,', 'remember,', 'the', 'fifth', 'of', 'July.']"
      ]
     },
     "execution_count": 30,
     "metadata": {},
     "output_type": "execute_result"
    }
   ],
   "source": [
    "#8\n",
    "'Remember, remember, the fifth of July.'.split()\n",
    "#splitting string into individual memebers of list\n"
   ]
  },
  {
   "cell_type": "code",
   "execution_count": 36,
   "id": "51ed7087",
   "metadata": {},
   "outputs": [
    {
     "data": {
      "text/plain": [
       "['There', 'can', 'only', 'one.']"
      ]
     },
     "execution_count": 36,
     "metadata": {},
     "output_type": "execute_result"
    }
   ],
   "source": [
    "('There can only one.'.split())"
   ]
  },
  {
   "cell_type": "code",
   "execution_count": 37,
   "id": "f218ba04",
   "metadata": {},
   "outputs": [
    {
     "data": {
      "text/plain": [
       "'There-can-only-one.'"
      ]
     },
     "execution_count": 37,
     "metadata": {},
     "output_type": "execute_result"
    }
   ],
   "source": [
    "'-'.join('There can only one.'.split())"
   ]
  },
  {
   "cell_type": "code",
   "execution_count": null,
   "id": "17ee8bfe",
   "metadata": {},
   "outputs": [],
   "source": [
    "#.join is joining the splitted characters of list with dash inbetween "
   ]
  },
  {
   "cell_type": "code",
   "execution_count": 42,
   "id": "c9440738",
   "metadata": {},
   "outputs": [
    {
     "data": {
      "text/plain": [
       "'jaga---'"
      ]
     },
     "execution_count": 42,
     "metadata": {},
     "output_type": "execute_result"
    }
   ],
   "source": [
    "#9\n",
    "# left justified\n",
    "str =\"jaga\"\n",
    "str.ljust(7,\"-\")"
   ]
  },
  {
   "cell_type": "code",
   "execution_count": 44,
   "id": "b1676355",
   "metadata": {},
   "outputs": [
    {
     "data": {
      "text/plain": [
       "'***********jaga'"
      ]
     },
     "execution_count": 44,
     "metadata": {},
     "output_type": "execute_result"
    }
   ],
   "source": [
    "# right justified\n",
    "str =\"jaga\"\n",
    "str.rjust(15,'*')"
   ]
  },
  {
   "cell_type": "code",
   "execution_count": 48,
   "id": "484b1788",
   "metadata": {},
   "outputs": [
    {
     "data": {
      "text/plain": [
       "'**jaga**'"
      ]
     },
     "execution_count": 48,
     "metadata": {},
     "output_type": "execute_result"
    }
   ],
   "source": [
    "# center justified\n",
    "str =\"jaga\"\n",
    "str.center(8,'*')"
   ]
  },
  {
   "cell_type": "code",
   "execution_count": 49,
   "id": "edb8076f",
   "metadata": {},
   "outputs": [
    {
     "data": {
      "text/plain": [
       "'fogaieuyfgrola        '"
      ]
     },
     "execution_count": 49,
     "metadata": {},
     "output_type": "execute_result"
    }
   ],
   "source": [
    "#10\n",
    "str =\"      fogaieuyfgrola        \"\n",
    "str.lstrip()"
   ]
  },
  {
   "cell_type": "code",
   "execution_count": 50,
   "id": "0228640c",
   "metadata": {},
   "outputs": [
    {
     "data": {
      "text/plain": [
       "'  +19847+8914+819'"
      ]
     },
     "execution_count": 50,
     "metadata": {},
     "output_type": "execute_result"
    }
   ],
   "source": [
    "str =\"  +19847+8914+819       \"\n",
    "str.rstrip()"
   ]
  },
  {
   "cell_type": "code",
   "execution_count": null,
   "id": "e67f4a6a",
   "metadata": {},
   "outputs": [],
   "source": []
  }
 ],
 "metadata": {
  "kernelspec": {
   "display_name": "Python 3 (ipykernel)",
   "language": "python",
   "name": "python3"
  },
  "language_info": {
   "codemirror_mode": {
    "name": "ipython",
    "version": 3
   },
   "file_extension": ".py",
   "mimetype": "text/x-python",
   "name": "python",
   "nbconvert_exporter": "python",
   "pygments_lexer": "ipython3",
   "version": "3.9.12"
  }
 },
 "nbformat": 4,
 "nbformat_minor": 5
}
