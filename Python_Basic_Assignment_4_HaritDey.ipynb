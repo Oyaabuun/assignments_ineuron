{
 "cells": [
  {
   "cell_type": "code",
   "execution_count": null,
   "id": "b2c2cb91",
   "metadata": {},
   "outputs": [],
   "source": [
    "#1\n",
    " [ ] is a empty list"
   ]
  },
  {
   "cell_type": "code",
   "execution_count": 6,
   "id": "a1ff404f",
   "metadata": {},
   "outputs": [
    {
     "data": {
      "text/plain": [
       "[2, 4, 'Hello', 6, 8, 10]"
      ]
     },
     "execution_count": 6,
     "metadata": {},
     "output_type": "execute_result"
    }
   ],
   "source": [
    "#2\n",
    "spam=[2,4,6,8,10]\n",
    "spam.insert(2,'Hello')\n",
    "spam"
   ]
  },
  {
   "cell_type": "code",
   "execution_count": 7,
   "id": "dcb87630",
   "metadata": {},
   "outputs": [],
   "source": [
    "#3\n",
    "spam=['a', 'b', 'c', 'd']"
   ]
  },
  {
   "cell_type": "code",
   "execution_count": 8,
   "id": "f30e0383",
   "metadata": {},
   "outputs": [
    {
     "data": {
      "text/plain": [
       "'d'"
      ]
     },
     "execution_count": 8,
     "metadata": {},
     "output_type": "execute_result"
    }
   ],
   "source": [
    "spam[int(int('3' * 2) / 11)]  # 3rd solution"
   ]
  },
  {
   "cell_type": "code",
   "execution_count": 9,
   "id": "b51f5404",
   "metadata": {},
   "outputs": [
    {
     "data": {
      "text/plain": [
       "'d'"
      ]
     },
     "execution_count": 9,
     "metadata": {},
     "output_type": "execute_result"
    }
   ],
   "source": [
    " #4th solution\n",
    "spam[-1] "
   ]
  },
  {
   "cell_type": "code",
   "execution_count": 10,
   "id": "fe86e5c4",
   "metadata": {},
   "outputs": [
    {
     "data": {
      "text/plain": [
       "['a', 'b']"
      ]
     },
     "execution_count": 10,
     "metadata": {},
     "output_type": "execute_result"
    }
   ],
   "source": [
    "#5th solution\n",
    "spam[:2]  "
   ]
  },
  {
   "cell_type": "code",
   "execution_count": 12,
   "id": "8082ba1f",
   "metadata": {},
   "outputs": [],
   "source": [
    "#6\n",
    "bacon = [3.14, 'cat', 11, 'cat', True]"
   ]
  },
  {
   "cell_type": "code",
   "execution_count": 13,
   "id": "b57b6a3c",
   "metadata": {},
   "outputs": [
    {
     "data": {
      "text/plain": [
       "1"
      ]
     },
     "execution_count": 13,
     "metadata": {},
     "output_type": "execute_result"
    }
   ],
   "source": [
    "bacon.index('cat')  #index is 1"
   ]
  },
  {
   "cell_type": "code",
   "execution_count": 14,
   "id": "d3af2e22",
   "metadata": {},
   "outputs": [],
   "source": [
    "bacon.append(99) "
   ]
  },
  {
   "cell_type": "code",
   "execution_count": 15,
   "id": "71195252",
   "metadata": {},
   "outputs": [
    {
     "data": {
      "text/plain": [
       "[3.14, 'cat', 11, 'cat', True, 99]"
      ]
     },
     "execution_count": 15,
     "metadata": {},
     "output_type": "execute_result"
    }
   ],
   "source": [
    "#7  solution for 7th question\n",
    "bacon "
   ]
  },
  {
   "cell_type": "code",
   "execution_count": 16,
   "id": "fcccdee7",
   "metadata": {},
   "outputs": [],
   "source": [
    "#8\n",
    "bacon.remove('cat')"
   ]
  },
  {
   "cell_type": "code",
   "execution_count": 17,
   "id": "71079955",
   "metadata": {},
   "outputs": [
    {
     "data": {
      "text/plain": [
       "[3.14, 11, 'cat', True, 99]"
      ]
     },
     "execution_count": 17,
     "metadata": {},
     "output_type": "execute_result"
    }
   ],
   "source": [
    "bacon    #8th solution"
   ]
  },
  {
   "cell_type": "code",
   "execution_count": null,
   "id": "947ff797",
   "metadata": {},
   "outputs": [],
   "source": [
    "#9\n",
    "#( * ) is list replication operator ( + ) is list concatination operator"
   ]
  },
  {
   "cell_type": "code",
   "execution_count": 18,
   "id": "cb1c985a",
   "metadata": {},
   "outputs": [
    {
     "data": {
      "text/plain": [
       "[3.14, 'cat', 11, 'cat', True, 99]"
      ]
     },
     "execution_count": 18,
     "metadata": {},
     "output_type": "execute_result"
    }
   ],
   "source": [
    "#10\n",
    "#append() Appends object to the end of the list\n",
    "#insert() insert we can add as well as can modify already occupied position.\n",
    "\n",
    "bacon = [3.14, 'cat', 11, 'cat', True]\n",
    "bacon.append(99) # append adds the item at the end of the list\n",
    "bacon"
   ]
  },
  {
   "cell_type": "code",
   "execution_count": 19,
   "id": "5fce0a68",
   "metadata": {},
   "outputs": [
    {
     "data": {
      "text/plain": [
       "[2, 4, 'hello', 6, 8, 10]"
      ]
     },
     "execution_count": 19,
     "metadata": {},
     "output_type": "execute_result"
    }
   ],
   "source": [
    "#inserting value in 3rd index\n",
    "spam = [2, 4, 6, 8, 10]\n",
    "spam.insert(2,'hello')\n",
    "spam\n"
   ]
  },
  {
   "cell_type": "code",
   "execution_count": 20,
   "id": "115f88c8",
   "metadata": {},
   "outputs": [
    {
     "data": {
      "text/plain": [
       "5"
      ]
     },
     "execution_count": 20,
     "metadata": {},
     "output_type": "execute_result"
    }
   ],
   "source": [
    "#11   remove using pop()\n",
    "f=[12,43,5,6]\n",
    "f.pop(2)"
   ]
  },
  {
   "cell_type": "code",
   "execution_count": 21,
   "id": "701f9ed1",
   "metadata": {},
   "outputs": [
    {
     "data": {
      "text/plain": [
       "[12, 43, 6]"
      ]
     },
     "execution_count": 21,
     "metadata": {},
     "output_type": "execute_result"
    }
   ],
   "source": [
    "f         #removed the item at index 2 , by-default it pops from last"
   ]
  },
  {
   "cell_type": "code",
   "execution_count": 22,
   "id": "da52b69c",
   "metadata": {},
   "outputs": [],
   "source": [
    "g=[\"toihup\",1234,4132]"
   ]
  },
  {
   "cell_type": "code",
   "execution_count": 24,
   "id": "38f1f7b5",
   "metadata": {},
   "outputs": [],
   "source": [
    "g.remove(\"toihup\")"
   ]
  },
  {
   "cell_type": "code",
   "execution_count": 25,
   "id": "d3399584",
   "metadata": {},
   "outputs": [
    {
     "data": {
      "text/plain": [
       "[1234, 4132]"
      ]
     },
     "execution_count": 25,
     "metadata": {},
     "output_type": "execute_result"
    }
   ],
   "source": [
    "g           #removed the element by specifying the value "
   ]
  },
  {
   "cell_type": "code",
   "execution_count": null,
   "id": "e1cc00a6",
   "metadata": {},
   "outputs": [],
   "source": [
    "#12\n",
    "\n",
    "#Have indexes and slices\n",
    "#Can be used in for loops\n",
    "#Can be concatenated or replicated"
   ]
  },
  {
   "cell_type": "code",
   "execution_count": null,
   "id": "e58e2508",
   "metadata": {},
   "outputs": [],
   "source": [
    "#13\n",
    "\n",
    "#tuples are immutable , list are mutable"
   ]
  },
  {
   "cell_type": "code",
   "execution_count": 30,
   "id": "d2553bd2",
   "metadata": {},
   "outputs": [],
   "source": [
    "#14\n",
    "#there is a tuple t\n",
    "t=(6)"
   ]
  },
  {
   "cell_type": "code",
   "execution_count": 31,
   "id": "22fbc5b9",
   "metadata": {},
   "outputs": [
    {
     "data": {
      "text/plain": [
       "6"
      ]
     },
     "execution_count": 31,
     "metadata": {},
     "output_type": "execute_result"
    }
   ],
   "source": [
    "t"
   ]
  },
  {
   "cell_type": "code",
   "execution_count": 37,
   "id": "19dd557b",
   "metadata": {},
   "outputs": [],
   "source": [
    "#15\n",
    "l= [\"hari\",2431.432,4+8j]      #list to tuple conversion\n",
    "l1=tuple(l)\n"
   ]
  },
  {
   "cell_type": "code",
   "execution_count": 38,
   "id": "b55cf675",
   "metadata": {},
   "outputs": [
    {
     "data": {
      "text/plain": [
       "('hari', 2431.432, (4+8j))"
      ]
     },
     "execution_count": 38,
     "metadata": {},
     "output_type": "execute_result"
    }
   ],
   "source": [
    "l1"
   ]
  },
  {
   "cell_type": "code",
   "execution_count": 42,
   "id": "7af99e2e",
   "metadata": {},
   "outputs": [],
   "source": [
    "t= (\"hari\",2431.432,4+8j)       #tuple to list conversion\n",
    "t1=list(t)                           "
   ]
  },
  {
   "cell_type": "code",
   "execution_count": 43,
   "id": "073cf4ed",
   "metadata": {},
   "outputs": [
    {
     "data": {
      "text/plain": [
       "['hari', 2431.432, (4+8j)]"
      ]
     },
     "execution_count": 43,
     "metadata": {},
     "output_type": "execute_result"
    }
   ],
   "source": [
    "t1"
   ]
  },
  {
   "cell_type": "code",
   "execution_count": 44,
   "id": "bb95a85e",
   "metadata": {},
   "outputs": [],
   "source": [
    "#16\n",
    "#They contain references to list values"
   ]
  },
  {
   "cell_type": "code",
   "execution_count": 46,
   "id": "25acfd2a",
   "metadata": {},
   "outputs": [],
   "source": [
    "\n",
    "\n"
   ]
  },
  {
   "cell_type": "code",
   "execution_count": null,
   "id": "43bc8189",
   "metadata": {},
   "outputs": [],
   "source": []
  },
  {
   "cell_type": "code",
   "execution_count": null,
   "id": "ad394647",
   "metadata": {},
   "outputs": [],
   "source": []
  },
  {
   "cell_type": "code",
   "execution_count": null,
   "id": "fbb5023f",
   "metadata": {},
   "outputs": [],
   "source": []
  }
 ],
 "metadata": {
  "kernelspec": {
   "display_name": "Python 3 (ipykernel)",
   "language": "python",
   "name": "python3"
  },
  "language_info": {
   "codemirror_mode": {
    "name": "ipython",
    "version": 3
   },
   "file_extension": ".py",
   "mimetype": "text/x-python",
   "name": "python",
   "nbconvert_exporter": "python",
   "pygments_lexer": "ipython3",
   "version": "3.9.12"
  }
 },
 "nbformat": 4,
 "nbformat_minor": 5
}
