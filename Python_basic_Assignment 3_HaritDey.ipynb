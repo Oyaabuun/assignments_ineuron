{
 "cells": [
  {
   "cell_type": "code",
   "execution_count": null,
   "id": "ad893a64",
   "metadata": {},
   "outputs": [],
   "source": [
    "#1\n",
    "\"\"\"functions help us to use the same program multiple times without requring to write the \n",
    "code again and again\"\"\""
   ]
  },
  {
   "cell_type": "code",
   "execution_count": null,
   "id": "4e95a414",
   "metadata": {},
   "outputs": [],
   "source": [
    "#2\n",
    "\"\"\"\n",
    "when the function is called then the code starts running\n",
    "\"\"\""
   ]
  },
  {
   "cell_type": "code",
   "execution_count": null,
   "id": "38d3b02c",
   "metadata": {},
   "outputs": [],
   "source": [
    "#3\n",
    "\"\"\"\n",
    "def test2(): this statement creates a function\n",
    "\"\"\""
   ]
  },
  {
   "cell_type": "code",
   "execution_count": null,
   "id": "6adc2785",
   "metadata": {},
   "outputs": [],
   "source": [
    "#4\n",
    "\"\"\"function is simple defing the function or writing the code for the function that can be \n",
    "used later\n",
    "\n",
    "function call is when we call the defined function for execution\"\"\"\n"
   ]
  },
  {
   "cell_type": "code",
   "execution_count": null,
   "id": "27ffd5ce",
   "metadata": {},
   "outputs": [],
   "source": [
    "#5\n",
    "\"\"\"\n",
    "we can define one global scope per program\n",
    "and there can be multiple local scopes\"\"\""
   ]
  },
  {
   "cell_type": "code",
   "execution_count": null,
   "id": "956adca2",
   "metadata": {},
   "outputs": [],
   "source": [
    "#6\n",
    "\"\"\" \n",
    "when the function call returns after the complete execution of the function the value of the \n",
    "local varaiable is lost\n",
    "\"\"\""
   ]
  },
  {
   "cell_type": "code",
   "execution_count": 2,
   "id": "c909a16f",
   "metadata": {},
   "outputs": [
    {
     "data": {
      "text/plain": [
       "63"
      ]
     },
     "execution_count": 2,
     "metadata": {},
     "output_type": "execute_result"
    }
   ],
   "source": [
    "#7\n",
    "\"\"\"\n",
    "after the execution the function returns a value in the return statement when specified.\n",
    "this is return value meaning\n",
    "yes its possible to return expression\n",
    "\"\"\"\n",
    "def multi():\n",
    "    return 7*9\n",
    "multi()"
   ]
  },
  {
   "cell_type": "code",
   "execution_count": null,
   "id": "8b5a708f",
   "metadata": {},
   "outputs": [],
   "source": [
    "#8\n",
    "none"
   ]
  },
  {
   "cell_type": "code",
   "execution_count": null,
   "id": "2f25cd17",
   "metadata": {},
   "outputs": [],
   "source": [
    "#9\n",
    "\"\"\"In order to refer to a global variable in a function, \n",
    "we can use the global keyword to declare which variables are global\"\"\"\"\"\""
   ]
  },
  {
   "cell_type": "code",
   "execution_count": null,
   "id": "b318e05b",
   "metadata": {},
   "outputs": [],
   "source": [
    "#10\n",
    "none_type"
   ]
  },
  {
   "cell_type": "code",
   "execution_count": 3,
   "id": "56072858",
   "metadata": {},
   "outputs": [
    {
     "ename": "ModuleNotFoundError",
     "evalue": "No module named 'areallyourpetsnamederic'",
     "output_type": "error",
     "traceback": [
      "\u001b[1;31m---------------------------------------------------------------------------\u001b[0m",
      "\u001b[1;31mModuleNotFoundError\u001b[0m                       Traceback (most recent call last)",
      "Input \u001b[1;32mIn [3]\u001b[0m, in \u001b[0;36m<cell line: 2>\u001b[1;34m()\u001b[0m\n\u001b[0;32m      1\u001b[0m \u001b[38;5;66;03m#11\u001b[39;00m\n\u001b[1;32m----> 2\u001b[0m \u001b[38;5;28;01mimport\u001b[39;00m \u001b[38;5;21;01mareallyourpetsnamederic\u001b[39;00m\n",
      "\u001b[1;31mModuleNotFoundError\u001b[0m: No module named 'areallyourpetsnamederic'"
     ]
    }
   ],
   "source": [
    "#11\n",
    "import areallyourpetsnamederic #It will import the libaray name areallyourpetsnamederic"
   ]
  },
  {
   "cell_type": "code",
   "execution_count": null,
   "id": "8db51958",
   "metadata": {},
   "outputs": [],
   "source": [
    "#12\n",
    "spam.bacon()"
   ]
  },
  {
   "cell_type": "code",
   "execution_count": null,
   "id": "34dd53a6",
   "metadata": {},
   "outputs": [],
   "source": [
    "#13\n"
   ]
  },
  {
   "cell_type": "code",
   "execution_count": null,
   "id": "db54082c",
   "metadata": {},
   "outputs": [],
   "source": [
    "#14\n",
    "\"\"\"In the try clause, all statements are executed until an exception is encountered.\n",
    "except is used to catch and handle the exception(s) that are encountered in the try clause.\n",
    "else lets you code sections that\n",
    "should run only when no exceptions are encountered in the try clause.\"\"\""
   ]
  }
 ],
 "metadata": {
  "kernelspec": {
   "display_name": "Python 3 (ipykernel)",
   "language": "python",
   "name": "python3"
  },
  "language_info": {
   "codemirror_mode": {
    "name": "ipython",
    "version": 3
   },
   "file_extension": ".py",
   "mimetype": "text/x-python",
   "name": "python",
   "nbconvert_exporter": "python",
   "pygments_lexer": "ipython3",
   "version": "3.9.12"
  }
 },
 "nbformat": 4,
 "nbformat_minor": 5
}
